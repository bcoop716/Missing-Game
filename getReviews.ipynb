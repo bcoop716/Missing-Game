{
  "cells": [
    {
      "cell_type": "code",
      "execution_count": 5,
      "metadata": {
        "id": "zFaeGCHMRnho",
        "outputId": "416f8510-548e-4301-caad-10eb1871795a",
        "colab": {
          "base_uri": "https://localhost:8080/"
        }
      },
      "outputs": [
        {
          "output_type": "stream",
          "name": "stdout",
          "text": [
            "Requirement already satisfied: beautifulsoup4 in /usr/local/lib/python3.11/dist-packages (4.13.3)\n",
            "Requirement already satisfied: requests in /usr/local/lib/python3.11/dist-packages (2.32.3)\n",
            "Collecting selenium\n",
            "  Downloading selenium-4.31.0-py3-none-any.whl.metadata (7.5 kB)\n",
            "Requirement already satisfied: pandas in /usr/local/lib/python3.11/dist-packages (2.2.2)\n",
            "Collecting python-dotenv\n",
            "  Downloading python_dotenv-1.1.0-py3-none-any.whl.metadata (24 kB)\n",
            "Collecting webdriver-manager\n",
            "  Downloading webdriver_manager-4.0.2-py2.py3-none-any.whl.metadata (12 kB)\n",
            "Requirement already satisfied: soupsieve>1.2 in /usr/local/lib/python3.11/dist-packages (from beautifulsoup4) (2.6)\n",
            "Requirement already satisfied: typing-extensions>=4.0.0 in /usr/local/lib/python3.11/dist-packages (from beautifulsoup4) (4.13.1)\n",
            "Requirement already satisfied: charset-normalizer<4,>=2 in /usr/local/lib/python3.11/dist-packages (from requests) (3.4.1)\n",
            "Requirement already satisfied: idna<4,>=2.5 in /usr/local/lib/python3.11/dist-packages (from requests) (3.10)\n",
            "Requirement already satisfied: urllib3<3,>=1.21.1 in /usr/local/lib/python3.11/dist-packages (from requests) (2.3.0)\n",
            "Requirement already satisfied: certifi>=2017.4.17 in /usr/local/lib/python3.11/dist-packages (from requests) (2025.1.31)\n",
            "Collecting trio~=0.17 (from selenium)\n",
            "  Downloading trio-0.29.0-py3-none-any.whl.metadata (8.5 kB)\n",
            "Collecting trio-websocket~=0.9 (from selenium)\n",
            "  Downloading trio_websocket-0.12.2-py3-none-any.whl.metadata (5.1 kB)\n",
            "Requirement already satisfied: websocket-client~=1.8 in /usr/local/lib/python3.11/dist-packages (from selenium) (1.8.0)\n",
            "Requirement already satisfied: numpy>=1.23.2 in /usr/local/lib/python3.11/dist-packages (from pandas) (2.0.2)\n",
            "Requirement already satisfied: python-dateutil>=2.8.2 in /usr/local/lib/python3.11/dist-packages (from pandas) (2.8.2)\n",
            "Requirement already satisfied: pytz>=2020.1 in /usr/local/lib/python3.11/dist-packages (from pandas) (2025.2)\n",
            "Requirement already satisfied: tzdata>=2022.7 in /usr/local/lib/python3.11/dist-packages (from pandas) (2025.2)\n",
            "Requirement already satisfied: packaging in /usr/local/lib/python3.11/dist-packages (from webdriver-manager) (24.2)\n",
            "Requirement already satisfied: six>=1.5 in /usr/local/lib/python3.11/dist-packages (from python-dateutil>=2.8.2->pandas) (1.17.0)\n",
            "Requirement already satisfied: attrs>=23.2.0 in /usr/local/lib/python3.11/dist-packages (from trio~=0.17->selenium) (25.3.0)\n",
            "Requirement already satisfied: sortedcontainers in /usr/local/lib/python3.11/dist-packages (from trio~=0.17->selenium) (2.4.0)\n",
            "Collecting outcome (from trio~=0.17->selenium)\n",
            "  Downloading outcome-1.3.0.post0-py2.py3-none-any.whl.metadata (2.6 kB)\n",
            "Requirement already satisfied: sniffio>=1.3.0 in /usr/local/lib/python3.11/dist-packages (from trio~=0.17->selenium) (1.3.1)\n",
            "Collecting wsproto>=0.14 (from trio-websocket~=0.9->selenium)\n",
            "  Downloading wsproto-1.2.0-py3-none-any.whl.metadata (5.6 kB)\n",
            "Requirement already satisfied: pysocks!=1.5.7,<2.0,>=1.5.6 in /usr/local/lib/python3.11/dist-packages (from urllib3[socks]<3,>=1.26->selenium) (1.7.1)\n",
            "Requirement already satisfied: h11<1,>=0.9.0 in /usr/local/lib/python3.11/dist-packages (from wsproto>=0.14->trio-websocket~=0.9->selenium) (0.14.0)\n",
            "Downloading selenium-4.31.0-py3-none-any.whl (9.4 MB)\n",
            "\u001b[2K   \u001b[90m━━━━━━━━━━━━━━━━━━━━━━━━━━━━━━━━━━━━━━━━\u001b[0m \u001b[32m9.4/9.4 MB\u001b[0m \u001b[31m61.8 MB/s\u001b[0m eta \u001b[36m0:00:00\u001b[0m\n",
            "\u001b[?25hDownloading python_dotenv-1.1.0-py3-none-any.whl (20 kB)\n",
            "Downloading webdriver_manager-4.0.2-py2.py3-none-any.whl (27 kB)\n",
            "Downloading trio-0.29.0-py3-none-any.whl (492 kB)\n",
            "\u001b[2K   \u001b[90m━━━━━━━━━━━━━━━━━━━━━━━━━━━━━━━━━━━━━━━━\u001b[0m \u001b[32m492.9/492.9 kB\u001b[0m \u001b[31m31.1 MB/s\u001b[0m eta \u001b[36m0:00:00\u001b[0m\n",
            "\u001b[?25hDownloading trio_websocket-0.12.2-py3-none-any.whl (21 kB)\n",
            "Downloading outcome-1.3.0.post0-py2.py3-none-any.whl (10 kB)\n",
            "Downloading wsproto-1.2.0-py3-none-any.whl (24 kB)\n",
            "Installing collected packages: wsproto, python-dotenv, outcome, webdriver-manager, trio, trio-websocket, selenium\n",
            "Successfully installed outcome-1.3.0.post0 python-dotenv-1.1.0 selenium-4.31.0 trio-0.29.0 trio-websocket-0.12.2 webdriver-manager-4.0.2 wsproto-1.2.0\n"
          ]
        }
      ],
      "source": [
        "%pip install beautifulsoup4 requests selenium pandas python-dotenv webdriver-manager\n"
      ]
    },
    {
      "cell_type": "markdown",
      "metadata": {
        "id": "MJEND8WtRnhp"
      },
      "source": [
        "# Get private credentials"
      ]
    },
    {
      "cell_type": "code",
      "execution_count": 6,
      "metadata": {
        "id": "CeLDk5RXRnhp",
        "outputId": "b46baf47-ebbb-44ba-b06a-17248e2567e9",
        "colab": {
          "base_uri": "https://localhost:8080/"
        }
      },
      "outputs": [
        {
          "output_type": "stream",
          "name": "stdout",
          "text": [
            "{'name': 'Mela Di', 'rating': '5.0 out of 5 stars', 'title': 'Excited!', 'description': 'The media could not be loaded.This was a 40th bday present 🎁 and I’m in love with it! I’m a hobby baker and I love to bake sourdough bread. This is a great addition to my kitchen and I’m so blessed to have finally gotten one! It makes baking faster and clean up easier! It’s sturdy and durable; great for making bread dough. I can make large batches of cookies and muffins with the standard bowl. I love the different speeds; makes it easy for stirring or pouring in ingredients.The bowl has a handle on it which makes it easy for me to remove/replace and also carry around, as needed.The look. I love the color of this mixer! 😍 It’s an off-white, cream color, similar to my coffee in the morning! It’s also the right size and fit for my cabinets. I have a small kitchen and it’s important for me to have the right size for my kitchen for use and for storage.Quality. Sturdy and heavy. I’m looking forward to baking with this for years to come and passing it on to my kids. I highly recommend this stand mixer to any level baker.'}\n",
            "{'name': 'AmznAddict', 'rating': '5.0 out of 5 stars', 'title': 'long lasting, reliable and versatile', 'description': \"This is the most heavily used tool in my kitchen besides my tea kettle, I have had mine for over 6 years now and it is still going strong today. It is unbelievably versatile and very heavy duty. Due to it's weight, I thought it was best to find a permanent home for it on my kitchen counter as opposed to putting it away each time; the bonus is that it looks very attractive on the counter due to its iconic look. My friends are always jealous when they see this, most of them end up buying one for themselves!Besides being very useful for making baked goods like cakes, muffins, and breads (and don't forget icing!), this is fantastic for blending meat! That's right, if you use the flat paddle to blend canned chicken breasts or tuna, you will get the most delicate chicken or tuna salad sandwiches out of it. I also use it to blend ground turkey or ground beef for the smoothest, most consistent meatloaf texture ever. Same thing for hamburger patties- I like to make mine out of ground beef and sausage meat, if you mix it with the flat paddle first you will get a perfect patty that is consistent throughout, and you will get a perfect shape if you use a mold. The best part is, your fingers don't have to get cold from mixing ground meat together. Speaking of ground meat, did you know they make a sausage making extension? You can make your own sausage at home if you are so inclined.Due to the powerful motor, you can buy all kinds of extensions on this so the KitchenAid's uses are not limited to the mixing bowl. I have the pasta making extension and it really does work. You mix the pasta dough in the mixing bowl (or by hand), and you run it through the extruder extension. It comes in several sizes and can make several different shapes. However, ever since I bought the Phillips Pasta Maker, I can't go back to the KitchenAid to make pasta anymore. I love my pasta maker and I have to say the KitchenAid loses out on this. That being said, not everyone has to room nor wants to buy a separate pasta maker- this is a very good replacement tool for making pasta. I have tried the hand crank pasta maker as well, you will never want to go back after using the extruder extension!Some other uses that you might not think- this makes excellent honey butter. I make biscuits using my KitchenAid and the honey butter goes so well with those biscuits! I use 1 cup of honey and 1 cup of butter and it really does make awesome honey butter. You can try and make all kinds of butters (e.g. apple butter using applesauce and butter) with this, and you can even make your own butter if you work cream long enough on this! I do not think it is capable of making nut butters, however...you will need a high powered blender like a blendtec or a decent food processor for that.Make sure you clean it well after every use. The bowl and the mixing tool can be washed in the dishwasher.. I have washed those in the dishwasher for over 6 years, and no rust! I wipe down the machine itself with a wet paper towel if flour or icing sugar gets on it, and it will. Sometimes milk or butter or meat will get on the machine itself during the mixing process, and I use a wet paper towel with dish soup to wipe it down, followed by a plain wet paper towel. Again, I have been doing this for a while and my machine is still as red and vibrant as the day it came out of the box.\"}\n",
            "{'name': 'MelB33', 'rating': '5.0 out of 5 stars', 'title': 'Best item in my kitchen!', 'description': 'This mixer is all that I had hoped it would be!  Nice heavy weight.  Beautiful color.  The attachments go on easily and securely.  Handles bread dough easily and no sticking on the sides of the bowl.  Also handles pizza dough well.  Makes kneading super simple.  Made cookies for the holidays and what a dream in creaming the butter and sugar.  Cannot wait to try all the other functions that make this stand mixer as well regarded as it is.  Wish I had purchased this years ago.  Highly highly recommend!'}\n",
            "{'name': 'HYPNOJADE', 'rating': '5.0 out of 5 stars', 'title': 'Best ever so worth the price!!!!!', 'description': 'Love love love my kitchen aid.  My neigbor gave me one b years ago and I dropped and broke it. This one is larger and beautiful color b to match my turquoise colored kitchen. Kitchen äaide is so worth the price but had $200 off on sale!!!!Cab make anything,  bread cakes and so many attachments to buy to make pasta etc! Sooooo worth the price.  My friend has had her s 24 years.  The one I dropped was at least that old!'}\n",
            "{'name': 'Nancy J Lucas', 'rating': '5.0 out of 5 stars', 'title': 'Love', 'description': \"Love this mixer and the color is awesome.  My only issue is that I bake my items with Truvia and Stevia and the mixer chugs trying to mix what I'm making since batters much heavier and thicker.  But, the mixer is wonderful and works very well with regular baking items.  Still love it even tho I bought it for the items I bake.  A hand mixer cannot mix my items.\"}\n",
            "{'name': 'Angela Fenn', 'rating': '5.0 out of 5 stars', 'title': 'Perfect gift for my daughter-in-law', 'description': 'I bought this as a gift and made sure to ask my son about the color. It’s matches their other appliances perfectly and they absolutely love the function and durability of this amazing machine that my husband and I have owned for years.'}\n",
            "{'name': 'Karen Keith', 'rating': '5.0 out of 5 stars', 'title': 'Looks great on the counter but works fantastic.', 'description': \"I have wanted one for a long time.  It is a great mixer.  I like to cook but wasn't doing as much as my old mixer wasn't easy to use.\"}\n",
            "{'name': 'Kindle Customer', 'rating': '5.0 out of 5 stars', 'title': 'KitchenAid Artisan Series Mixer', 'description': \"I am new to baking bread and making cookies, so I ordered this mixer as soon as I discovered how exhausting it is to knead dough forever. I am thrilled with the mixer. It was easy to learn to use and as I have become more experienced in making bread, it is so cool to watch it develop as the mixer kneads it for me. I look forward to using it for other things in the future. The only potential concern is if I knead the bread at a higher speed, the mixer jumps a little on the counter due to the balance of the dough. It makes me want to stand there with a hand on it just to be sure it won't toddle off the counter. This could be user error.\"}\n"
          ]
        }
      ],
      "source": [
        "import requests\n",
        "from bs4 import BeautifulSoup\n",
        "\n",
        "HEADERS = {\n",
        "    'User-Agent': 'Mozilla/5.0 (Windows NT 10.0; Win64; x64) AppleWebKit/537.36 (KHTML, like Gecko) Chrome/124.0.0.0 Safari/537.36',\n",
        "    'Accept-Language': 'en-US,en;q=0.9',\n",
        "}\n",
        "\n",
        "def getdata(url):\n",
        "    r = requests.get(url, headers=HEADERS)\n",
        "    return r.text\n",
        "\n",
        "def html_code(url):\n",
        "    htmldata = getdata(url)\n",
        "    soup = BeautifulSoup(htmldata, 'html.parser')\n",
        "    return soup\n",
        "\n",
        "def extract_reviews(soup):\n",
        "    reviews = []\n",
        "    review_blocks = soup.find_all(\"li\", class_=\"review aok-relative\")\n",
        "\n",
        "    for block in review_blocks:\n",
        "        review = {}\n",
        "\n",
        "        # Extract reviewer name\n",
        "        name_tag = block.find(\"span\", class_=\"a-profile-name\")\n",
        "        review[\"name\"] = name_tag.get_text(strip=True) if name_tag else \"N/A\"\n",
        "\n",
        "        # Extract star rating\n",
        "        rating_tag = block.find(\"i\", class_=\"review-rating\")\n",
        "        review[\"rating\"] = rating_tag.get_text(strip=True) if rating_tag else \"N/A\"\n",
        "\n",
        "        # Extract review title\n",
        "        title_tag = block.find(\"a\", class_=\"review-title\")\n",
        "        # Drop the star rating from title\n",
        "        review[\"title\"] = title_tag.get_text(strip=True) if title_tag else \"N/A\"\n",
        "        if review[\"rating\"] in review[\"title\"]:\n",
        "            review[\"title\"] = review[\"title\"].replace(review[\"rating\"], \"\").strip()\n",
        "\n",
        "        # Extract review description\n",
        "        description_tag = block.find(\"div\", class_=\"review-text-content\")\n",
        "        review[\"description\"] = description_tag.get_text(strip=True) if description_tag else \"N/A\"\n",
        "\n",
        "        reviews.append(review)\n",
        "\n",
        "    return reviews\n",
        "\n",
        "url = \"https://www.amazon.com/KitchenAid-Artisan-Tilt-Head-KSM150PSDC-Cardamom/dp/B0DN6W791V\"\n",
        "soup = html_code(url)\n",
        "reviews = extract_reviews(soup)\n",
        "\n",
        "for review in reviews:\n",
        "    print(review)\n"
      ]
    },
    {
      "cell_type": "markdown",
      "source": [
        "## Sentament Analysis Test\n"
      ],
      "metadata": {
        "id": "_4OnKddtR90R"
      }
    },
    {
      "cell_type": "code",
      "source": [
        "%pip install pandas\n",
        "%pip install matplotlib\n",
        "%pip install nltk"
      ],
      "metadata": {
        "id": "zJOCJvYJSHcZ",
        "outputId": "0859bed3-c3e6-4077-da0f-434744e195a7",
        "colab": {
          "base_uri": "https://localhost:8080/"
        }
      },
      "execution_count": 21,
      "outputs": [
        {
          "output_type": "stream",
          "name": "stdout",
          "text": [
            "Requirement already satisfied: pandas in /usr/local/lib/python3.11/dist-packages (2.2.2)\n",
            "Requirement already satisfied: numpy>=1.23.2 in /usr/local/lib/python3.11/dist-packages (from pandas) (2.0.2)\n",
            "Requirement already satisfied: python-dateutil>=2.8.2 in /usr/local/lib/python3.11/dist-packages (from pandas) (2.8.2)\n",
            "Requirement already satisfied: pytz>=2020.1 in /usr/local/lib/python3.11/dist-packages (from pandas) (2025.2)\n",
            "Requirement already satisfied: tzdata>=2022.7 in /usr/local/lib/python3.11/dist-packages (from pandas) (2025.2)\n",
            "Requirement already satisfied: six>=1.5 in /usr/local/lib/python3.11/dist-packages (from python-dateutil>=2.8.2->pandas) (1.17.0)\n",
            "Requirement already satisfied: matplotlib in /usr/local/lib/python3.11/dist-packages (3.10.0)\n",
            "Requirement already satisfied: contourpy>=1.0.1 in /usr/local/lib/python3.11/dist-packages (from matplotlib) (1.3.1)\n",
            "Requirement already satisfied: cycler>=0.10 in /usr/local/lib/python3.11/dist-packages (from matplotlib) (0.12.1)\n",
            "Requirement already satisfied: fonttools>=4.22.0 in /usr/local/lib/python3.11/dist-packages (from matplotlib) (4.57.0)\n",
            "Requirement already satisfied: kiwisolver>=1.3.1 in /usr/local/lib/python3.11/dist-packages (from matplotlib) (1.4.8)\n",
            "Requirement already satisfied: numpy>=1.23 in /usr/local/lib/python3.11/dist-packages (from matplotlib) (2.0.2)\n",
            "Requirement already satisfied: packaging>=20.0 in /usr/local/lib/python3.11/dist-packages (from matplotlib) (24.2)\n",
            "Requirement already satisfied: pillow>=8 in /usr/local/lib/python3.11/dist-packages (from matplotlib) (11.1.0)\n",
            "Requirement already satisfied: pyparsing>=2.3.1 in /usr/local/lib/python3.11/dist-packages (from matplotlib) (3.2.3)\n",
            "Requirement already satisfied: python-dateutil>=2.7 in /usr/local/lib/python3.11/dist-packages (from matplotlib) (2.8.2)\n",
            "Requirement already satisfied: six>=1.5 in /usr/local/lib/python3.11/dist-packages (from python-dateutil>=2.7->matplotlib) (1.17.0)\n",
            "Requirement already satisfied: nltk in /usr/local/lib/python3.11/dist-packages (3.9.1)\n",
            "Requirement already satisfied: click in /usr/local/lib/python3.11/dist-packages (from nltk) (8.1.8)\n",
            "Requirement already satisfied: joblib in /usr/local/lib/python3.11/dist-packages (from nltk) (1.4.2)\n",
            "Requirement already satisfied: regex>=2021.8.3 in /usr/local/lib/python3.11/dist-packages (from nltk) (2024.11.6)\n",
            "Requirement already satisfied: tqdm in /usr/local/lib/python3.11/dist-packages (from nltk) (4.67.1)\n"
          ]
        }
      ]
    },
    {
      "cell_type": "code",
      "source": [
        "import nltk\n",
        "nltk.download('vader_lexicon')\n",
        "from nltk.sentiment.vader import SentimentIntensityAnalyzer\n",
        "\n",
        "sid = SentimentIntensityAnalyzer()\n"
      ],
      "metadata": {
        "id": "_eCslB4BSZXw",
        "outputId": "b9eb8511-2f74-4e62-f2f8-933dcac8ba46",
        "colab": {
          "base_uri": "https://localhost:8080/"
        }
      },
      "execution_count": 22,
      "outputs": [
        {
          "output_type": "stream",
          "name": "stderr",
          "text": [
            "[nltk_data] Downloading package vader_lexicon to /root/nltk_data...\n",
            "[nltk_data]   Package vader_lexicon is already up-to-date!\n"
          ]
        }
      ]
    },
    {
      "cell_type": "code",
      "source": [
        "def analyze_sentiment(text):\n",
        "    return sid.polarity_scores(text)['compound']\n",
        "\n",
        "def sentiment_label(score):\n",
        "    if score >= 0.1:\n",
        "        return 'positive'\n",
        "    elif score <= -0.1:\n",
        "        return 'negative'\n",
        "    else:\n",
        "        return 'neutral'\n"
      ],
      "metadata": {
        "id": "_n1acqbySPTq"
      },
      "execution_count": 23,
      "outputs": []
    },
    {
      "cell_type": "code",
      "source": [
        "for review in reviews:\n",
        "\n",
        "    score = analyze_sentiment(review['description'])\n",
        "    review['compound_score'] = score\n",
        "    review['sentiment'] = sentiment_label(score)\n",
        "\n",
        "    print(score)\n",
        "    print(sentiment_label(score))"
      ],
      "metadata": {
        "id": "izeO_0axTUTL",
        "outputId": "2f5103cd-cd4f-4de4-ea28-535eca32409b",
        "colab": {
          "base_uri": "https://localhost:8080/"
        }
      },
      "execution_count": 24,
      "outputs": [
        {
          "output_type": "stream",
          "name": "stdout",
          "text": [
            "0.9941\n",
            "positive\n",
            "0.9975\n",
            "positive\n",
            "0.9855\n",
            "positive\n",
            "0.9677\n",
            "positive\n",
            "0.9761\n",
            "positive\n",
            "0.9606\n",
            "positive\n",
            "0.0493\n",
            "neutral\n",
            "0.8552\n",
            "positive\n"
          ]
        }
      ]
    }
  ],
  "metadata": {
    "kernelspec": {
      "display_name": "Python 3",
      "language": "python",
      "name": "python3"
    },
    "language_info": {
      "codemirror_mode": {
        "name": "ipython",
        "version": 3
      },
      "file_extension": ".py",
      "mimetype": "text/x-python",
      "name": "python",
      "nbconvert_exporter": "python",
      "pygments_lexer": "ipython3",
      "version": "3.9.6"
    },
    "colab": {
      "provenance": []
    }
  },
  "nbformat": 4,
  "nbformat_minor": 0
}